{
  "nbformat": 4,
  "nbformat_minor": 0,
  "metadata": {
    "colab": {
      "name": "practice.ipynb",
      "provenance": [],
      "collapsed_sections": [],
      "authorship_tag": "ABX9TyMcSPqq2CW2kybmiUk0MNLE",
      "include_colab_link": true
    },
    "kernelspec": {
      "name": "python3",
      "display_name": "Python 3"
    }
  },
  "cells": [
    {
      "cell_type": "markdown",
      "metadata": {
        "id": "view-in-github",
        "colab_type": "text"
      },
      "source": [
        "<a href=\"https://colab.research.google.com/github/0324065kevin/oose_032465/blob/master/practice.ipynb\" target=\"_parent\"><img src=\"https://colab.research.google.com/assets/colab-badge.svg\" alt=\"Open In Colab\"/></a>"
      ]
    },
    {
      "cell_type": "code",
      "metadata": {
        "id": "KtZYbKr_BZU7",
        "colab_type": "code",
        "colab": {}
      },
      "source": [
        "def two_point_distent(A_list,B_list):\n",
        "  ans = math.sqrt((A_list[0] - B_list[0])**2 + (A_list[1] - B_list[1])**2)\n",
        "  return ans"
      ],
      "execution_count": 0,
      "outputs": []
    },
    {
      "cell_type": "code",
      "metadata": {
        "id": "8YNzbcHbqRI_",
        "colab_type": "code",
        "colab": {}
      },
      "source": [
        "import math\n",
        "list_point =[(1,1),(2,4),(3,5),(4,2),(5,0),(4,5)]\n",
        "def Distent_list(list_point):\n",
        "  max_distent = 0\n",
        "  for inx,value in enumerate(list_point[:-1]):\n",
        "    for j in list_point[inx+1:]:\n",
        "      print(\"%.3f\"%(two_point_distent(value,j)))\n",
        "    print()"
      ],
      "execution_count": 0,
      "outputs": []
    },
    {
      "cell_type": "code",
      "metadata": {
        "id": "25lKXvGOqbjr",
        "colab_type": "code",
        "outputId": "8554c088-e386-4f17-f552-27a111136d3d",
        "colab": {
          "base_uri": "https://localhost:8080/",
          "height": 364
        }
      },
      "source": [
        "Distent_list(list_point) "
      ],
      "execution_count": 0,
      "outputs": [
        {
          "output_type": "stream",
          "text": [
            "3.162\n",
            "4.472\n",
            "3.162\n",
            "4.123\n",
            "5.000\n",
            "\n",
            "1.414\n",
            "2.828\n",
            "5.000\n",
            "2.236\n",
            "\n",
            "3.162\n",
            "5.385\n",
            "1.000\n",
            "\n",
            "2.236\n",
            "3.000\n",
            "\n",
            "5.099\n",
            "\n"
          ],
          "name": "stdout"
        }
      ]
    },
    {
      "cell_type": "code",
      "metadata": {
        "id": "tOh6luH8wJ3-",
        "colab_type": "code",
        "colab": {}
      },
      "source": [
        ""
      ],
      "execution_count": 0,
      "outputs": []
    },
    {
      "cell_type": "markdown",
      "metadata": {
        "id": "Q7H2UCQ018sy",
        "colab_type": "text"
      },
      "source": [
        "ML Lecture 1: Regression "
      ]
    },
    {
      "cell_type": "code",
      "metadata": {
        "id": "9bnpw5Q92Fpc",
        "colab_type": "code",
        "colab": {}
      },
      "source": [
        "import matplotlib\n",
        "import matplotlib.pyplot as plt \n",
        "import numpy as np \n",
        "import random as random\n",
        "import csv"
      ],
      "execution_count": 0,
      "outputs": []
    },
    {
      "cell_type": "code",
      "metadata": {
        "id": "_WchuRzk2Hm-",
        "colab_type": "code",
        "colab": {}
      },
      "source": [
        "\n",
        "#create some data\n",
        "x_data=[338, 333, 328, 207, 226, 25, 179, 60, 208, 606]\n",
        "\n",
        "y_data=[640, 633, 619, 393, 428,27, 193, 66, 226, 1591]\n",
        "\n",
        "#y_data = b + w * xdata\n"
      ],
      "execution_count": 0,
      "outputs": []
    },
    {
      "cell_type": "code",
      "metadata": {
        "id": "SKQlClyS2J2a",
        "colab_type": "code",
        "colab": {}
      },
      "source": [
        "x = np.arange(-200,-100,1) #bias\n",
        "y = np.arange(-5,5,0.1) #weight\n",
        "Z =  np.zeros((len(x), len(y)))\n",
        "X, Y = np.meshgrid(x, y)\n",
        "for i in range(len(x)):\n",
        "    for j in range(len(y)):\n",
        "         b = x[i]\n",
        "         w = y[j]\n",
        "         Z[j][i] = 0\n",
        "         for n in range(len(x_data)):\n",
        "            Z[j][i] = Z[j][i] +  (y_data[n] - b - w*x_data[n])**2\n",
        "            Z[j][i] = Z[j][i]/len(x_data)\n",
        "\n"
      ],
      "execution_count": 0,
      "outputs": []
    },
    {
      "cell_type": "code",
      "metadata": {
        "id": "faXaDcJP18bM",
        "colab_type": "code",
        "colab": {}
      },
      "source": [
        "#initial weight and bias\n",
        "# b=-120\n",
        "# w=-4\n",
        "# lr=0.000001\n",
        "# iteration=100000\n",
        "\n",
        "b=-120\n",
        "w=-4\n",
        "lr=1\n",
        "iteration=100000\n",
        "\n",
        "b_history=[b]\n",
        "w_history=[w]\n",
        "\n",
        "lr_b=0.0\n",
        "lr_w=0.0\n",
        "\n",
        "for i in range(iteration):\n",
        "#gradient fxn\n",
        "    b_grad=0.0   # 新的b點位移預測\n",
        "    w_grad=0.0   # 新的w點位移預測\n",
        "    \n",
        "    for n in range(len(x_data)):\n",
        "\n",
        "        # L(w,b)對b偏微分\n",
        "        b_grad = b_grad -2.0*(y_data[n] - b - w*x_data[n])*1.0\n",
        "        # L(w,b)對w偏微分\n",
        "        w_grad = w_grad -2.0*(y_data[n] - b - w*x_data[n])*x_data[n]\n",
        "        \n",
        "    lr_b = lr_b + b_grad **2\n",
        "    lr_w = lr_w + w_grad **2\n",
        "\n",
        "    b = b - lr/np.sqrt(lr_b)*b_grad # Adagrad\n",
        "    w = w - lr/np.sqrt(lr_w)*w_grad\n",
        "   \n",
        "    b_history.append(b)\n",
        "    w_history.append(w)  #put all the b,w into the array, find the minimum"
      ],
      "execution_count": 0,
      "outputs": []
    },
    {
      "cell_type": "code",
      "metadata": {
        "id": "xt_soxQ28ckv",
        "colab_type": "code",
        "outputId": "17d1d3e9-9ac4-408c-96ff-d393bc72b01d",
        "colab": {
          "base_uri": "https://localhost:8080/",
          "height": 285
        }
      },
      "source": [
        "#plot the figure\n",
        "\n",
        "plt.contourf(x,y,Z, 50, alpha=0.5, cmap=plt.get_cmap('jet'))\n",
        "plt.plot([-188.4], [2.67], 'x', ms=12, markeredgewidth=3, color='orange')\n",
        "plt.plot(b_history, w_history, 'o-', ms=3, lw=1.5, color='black')\n",
        "plt.xlim(-200,-100)\n",
        "plt.ylim(-5,5)\n",
        "plt.xlabel(r'$b$', fontsize=16)\n",
        "plt.ylabel(r'$w$', fontsize=16)\n",
        "plt.show()"
      ],
      "execution_count": 0,
      "outputs": [
        {
          "output_type": "display_data",
          "data": {
            "image/png": "[encoded data removed]",
            "text/plain": [
              "<Figure size 432x288 with 1 Axes>"
            ]
          },
          "metadata": {
            "tags": []
          }
        }
      ]
    },
    {
      "cell_type": "markdown",
      "metadata": {
        "id": "Yp4UTzhG-Yea",
        "colab_type": "text"
      },
      "source": [
        "Practice 2:\n",
        "Random english"
      ]
    },
    {
      "cell_type": "code",
      "metadata": {
        "id": "OTlk4Itk9Q9E",
        "colab_type": "code",
        "colab": {}
      },
      "source": [
        "import string\n",
        "import random\n",
        "# string.ascii_letters\n",
        "# test1 = \"? b c d e f g h i j k l m n o p q r s t u v w x y z\"\n",
        "# test2 = \"a b c d e f g h i j k l m n o p q r s t u v w x y ?\"\n",
        "# test3 = \"a b c d e f g h i j k l ? ? o p q r s t u v w x y z\"\n",
        "# test_finall = \"? ? ? d e f g h i j k l ? ? o p q r s t u v w ? ? ?\"\n",
        "\n",
        "sample_list = ['a' ,'b','c' ,'d' ,'e' ,'f' ,'g' ,'h' ,'i' ,'j' ,'k' ,'l' ,'m' ,'n' ,'o' ,'p' ,'q' ,'r'\n",
        " ,'s' ,'t' ,'u' ,'v' ,'w' ,'x' ,'y' ,'z' ,'?' ,'?' ,'?' ,'?' ,'?']"
      ],
      "execution_count": 0,
      "outputs": []
    },
    {
      "cell_type": "code",
      "metadata": {
        "id": "ou0yE5qR_JmN",
        "colab_type": "code",
        "colab": {}
      },
      "source": [
        "# word = test_finall.split(\" \")\n",
        "#random.sample 不會取重複\n",
        "word =  random.sample(sample_list, k=26)"
      ],
      "execution_count": 0,
      "outputs": []
    },
    {
      "cell_type": "code",
      "metadata": {
        "id": "Gs3kEfpvSSxv",
        "colab_type": "code",
        "colab": {}
      },
      "source": [
        "\n",
        "for inx,value in enumerate(word):  \n",
        "  if inx == 0 and value == \"?\":\n",
        "    word[inx] = random.choice(string.ascii_lowercase)\n",
        "    while (word[inx] == word[inx+1]):\n",
        "      word[inx] = random.choice(string.ascii_lowercase)\n",
        "  elif value == \"?\" and inx == len(word)-1:\n",
        "    word[inx] = random.choice(string.ascii_lowercase)\n",
        "    while (word[inx] == word[inx-1]):\n",
        "      word[inx] = random.choice(string.ascii_lowercase)\n",
        "  elif value == \"?\":\n",
        "    while True:\n",
        "      word[inx] = random.choice(string.ascii_lowercase)\n",
        "      if (word[inx] != word[inx+1]) and (word[inx] != word[inx-1]):\n",
        "        break"
      ],
      "execution_count": 0,
      "outputs": []
    },
    {
      "cell_type": "code",
      "metadata": {
        "id": "GQ4V4IoNSUA3",
        "colab_type": "code",
        "outputId": "2479367f-2dfd-4bdc-ddb2-69e94e200228",
        "colab": {
          "base_uri": "https://localhost:8080/",
          "height": 468
        }
      },
      "source": [
        "word"
      ],
      "execution_count": 0,
      "outputs": [
        {
          "output_type": "execute_result",
          "data": {
            "text/plain": [
              "['o',\n",
              " 's',\n",
              " 'y',\n",
              " 'n',\n",
              " 'r',\n",
              " 'f',\n",
              " 'e',\n",
              " 'g',\n",
              " 'v',\n",
              " 'm',\n",
              " 't',\n",
              " 'j',\n",
              " 'z',\n",
              " 'h',\n",
              " 'q',\n",
              " 'u',\n",
              " 'w',\n",
              " 'x',\n",
              " 'c',\n",
              " 'd',\n",
              " 'z',\n",
              " 'k',\n",
              " 'i',\n",
              " 'h',\n",
              " 'u',\n",
              " 'g']"
            ]
          },
          "metadata": {
            "tags": []
          },
          "execution_count": 81
        }
      ]
    },
    {
      "cell_type": "code",
      "metadata": {
        "id": "Vov_gns5J_Oc",
        "colab_type": "code",
        "colab": {}
      },
      "source": [
        ""
      ],
      "execution_count": 0,
      "outputs": []
    }
  ]
}